{
 "cells": [
  {
   "cell_type": "markdown",
   "metadata": {},
   "source": [
    "recursive function\n",
    " call always on smaller input \n",
    " "
   ]
  },
  {
   "cell_type": "markdown",
   "metadata": {},
   "source": []
  },
  {
   "cell_type": "code",
   "execution_count": 2,
   "metadata": {},
   "outputs": [
    {
     "name": "stdout",
     "output_type": "stream",
     "text": [
      "[-5, -5, -5, -5, -5, -5, -5, -5]\n",
      "9\n"
     ]
    }
   ],
   "source": [
    "wt = [1,3,4,5]\n",
    "val = [1,4,5,7]\n",
    "W = 7\n",
    "n = len(wt)\n",
    "t = Matrix = [-1 *(n+1) for y in range(W+1)] \n",
    "print(t)\n",
    "\n",
    "\n",
    "\n",
    "def KnapsackMemo(wt,val,W,n):\n",
    "\n",
    "    if(n==0 or W ==0):\n",
    "        return 0\n",
    "    \n",
    "    if t[n][W] != -1:\n",
    "        return t[n][W]\n",
    "    \n",
    "    if wt[n-1] <= W and len(wt) > 0:\n",
    "        t[n][W] = max((val[n-1] + Knapsack(wt,val,W-wt[n-1],n-1)),Knapsack(wt,val,W,n-1))\n",
    "        return t[n][W]\n",
    "    elif wt[n-1] > W:\n",
    "        t[n][W] = Knapsack(wt,val,W,n-1)\n",
    "        return t[n][W]\n",
    "\n",
    "\n",
    "def KnapsackRecusrive(wt,val,W,n):\n",
    "\n",
    "    if(n==0 or W ==0):\n",
    "        return 0\n",
    "\n",
    "    if wt[n-1] <= W and len(wt) > 0:\n",
    "        return max((val[n-1] + Knapsack(wt,val,W-wt[n-1],n-1)),Knapsack(wt,val,W,n-1))\n",
    "    elif wt[n-1] > W:\n",
    "        return Knapsack(wt,val,W,n-1)\n",
    "\n",
    "print(Knapsack(wt,val,W,n))\n"
   ]
  },
  {
   "cell_type": "code",
   "execution_count": 52,
   "metadata": {},
   "outputs": [
    {
     "name": "stdout",
     "output_type": "stream",
     "text": [
      "6\n"
     ]
    }
   ],
   "source": [
    "#coin change 1\n",
    "#max no. of ways\n",
    "\n",
    "\n",
    "arr = [1,2,3,4]\n",
    "sum = 5 \n",
    "\n",
    "\n",
    "def coinChange1(coins,summ):\n",
    "    n = len(arr)\n",
    "\n",
    "    t = [[0] * (sum+1) for i in range(n+1)]\n",
    "\n",
    "\n",
    "    for i in range(n+1):\n",
    "        for j in range(summ+1):\n",
    "            if i == 0:\n",
    "                t[i][j] = 0\n",
    "            if j == 0:\n",
    "                t[i][j] = 1\n",
    "                \n",
    "    \n",
    "    for i in range(1,n+1):\n",
    "        for j in range(1,summ+1):\n",
    "            if coins[i-1] <= j and  len(coins) > 0:\n",
    "                t[i][j] = t[i][j-coins[i-1]] + t[i-1][j]\n",
    "            else:\n",
    "                t[i][j] = t[i-1][j]\n",
    "\n",
    "    return t[i][j]\n",
    "\n",
    "\n",
    "print(coinChange1(arr,sum))\n",
    "\n",
    "\n"
   ]
  },
  {
   "cell_type": "code",
   "execution_count": 59,
   "metadata": {},
   "outputs": [
    {
     "name": "stdout",
     "output_type": "stream",
     "text": [
      "[[9223372036854775806, 0, 0, 0, 0, 0, 0, 0, 0, 0], [9223372036854775806, 1.0, 2.0, 3.0, 4.0, 5.0, 6.0, 7.0, 8.0, 9.0], [9223372036854775806, 0, 0, 0, 0, 0, 0, 0, 0, 0], [9223372036854775806, 0, 0, 0, 0, 0, 0, 0, 0, 0], [9223372036854775806, 0, 0, 0, 0, 0, 0, 0, 0, 0]]\n",
      "3.0\n"
     ]
    }
   ],
   "source": [
    "arr = [1,2,3,4]\n",
    "sum = 9\n",
    "\n",
    "#min n0. of coins to reach the sum\n",
    "\n",
    "def coinChange2(coins,summ):\n",
    "    n = len(arr)\n",
    "\n",
    "    t = [[0] * (sum+1) for i in range(n+1)]\n",
    "\n",
    "#normal initialization\n",
    "\n",
    "    for i in range(n+1):\n",
    "        for j in range(summ+1):\n",
    "            if i == 0:\n",
    "                t[i][j] = 0\n",
    "            if j == 0:\n",
    "                t[i][j] = sys.maxsize - 1\n",
    "            \n",
    "#initialize second row\n",
    "    for j in range(1,summ+1):\n",
    "        if j % arr[0] == 0:\n",
    "            t[1][j] = j/arr[0]\n",
    "        else:\n",
    "            t[1][j] = sys.maxsize - 1\n",
    "\n",
    "    \n",
    "    for i in range(2,n+1):\n",
    "        for j in range(1,summ+1):\n",
    "            if coins[i-1] <= j and  len(coins) > 0:\n",
    "                t[i][j] = min(1+t[i][j-coins[i-1]],t[i-1][j])\n",
    "            else:\n",
    "                t[i][j] = t[i-1][j]\n",
    "\n",
    "    return t[i][j]\n",
    "\n",
    "\n",
    "print(coinChange2(arr,sum))\n",
    "\n",
    "\n",
    "\n"
   ]
  },
  {
   "cell_type": "code",
   "execution_count": 69,
   "metadata": {},
   "outputs": [
    {
     "name": "stdout",
     "output_type": "stream",
     "text": [
      "5\n"
     ]
    }
   ],
   "source": [
    "# longest common subsequence\n",
    "\n",
    "def LCS(string1,string2,n,m):\n",
    "    if n==0 or m==0:\n",
    "        return 0\n",
    "\n",
    "\n",
    "    if string1[n-1] == string2[m-1]:\n",
    "        return 1 + LCS(string1,string2,n-1,m-1)\n",
    "\n",
    "    else:\n",
    "        return max(LCS(string1,string2,n-1,m),LCS(string1,string2,n,m-1))\n",
    "\n",
    "    \n",
    "print(LCS('abcdef','aecdefgh',6,8))\n",
    "\n",
    "\n",
    "\n"
   ]
  },
  {
   "cell_type": "code",
   "execution_count": 75,
   "metadata": {},
   "outputs": [
    {
     "name": "stdout",
     "output_type": "stream",
     "text": [
      "4\n"
     ]
    }
   ],
   "source": [
    "def LCSDP(string1,string2,n,m):\n",
    "\n",
    "    t = [[0]*(m+1) for i in range(n+1)]\n",
    "\n",
    "    for i in range(n+1):\n",
    "        for j in range(m+1):\n",
    "            if i == 0 or j == 0:\n",
    "                t[i][j] = 0\n",
    "    \n",
    "    for i in range(1,n+1):\n",
    "        for j in range(1,m+1):\n",
    "            if string1[i-1] == string2[j-1]:\n",
    "                t[i][j] = 1+ t[i-1][j-1]\n",
    "\n",
    "            else:\n",
    "                t[i][j] = max(t[i][j-1],t[i-1][j])\n",
    "\n",
    "    return t[i][j]\n",
    "\n",
    "\n",
    "print(LCSDP('abccef','aecdefgh',6,8))\n"
   ]
  },
  {
   "cell_type": "code",
   "execution_count": 79,
   "metadata": {},
   "outputs": [
    {
     "name": "stdout",
     "output_type": "stream",
     "text": [
      "2\n"
     ]
    }
   ],
   "source": [
    "def LCSSubstring(string1,string2,n,m):\n",
    "\n",
    "    t = [[0]*(m+1) for i in range(n+1)]\n",
    "\n",
    "    for i in range(n+1):\n",
    "        for j in range(m+1):\n",
    "            if i == 0 or j == 0:\n",
    "                t[i][j] = 0\n",
    "\n",
    "    maxi = 0\n",
    "    \n",
    "    for i in range(1,n+1):\n",
    "        for j in range(1,m+1):\n",
    "            if string1[i-1] == string2[j-1]:\n",
    "                t[i][j] = 1+ t[i-1][j-1]\n",
    "                maxi = max(t[i][j],maxi) \n",
    "\n",
    "\n",
    "            else:\n",
    "                t[i][j] = 0\n",
    "\n",
    "    return maxi\n",
    "\n",
    "\n",
    "print(LCSSubstring('abccef','aecdefgh',6,8))\n"
   ]
  },
  {
   "cell_type": "code",
   "execution_count": null,
   "metadata": {},
   "outputs": [],
   "source": [
    "# arr[]  = [9:00,  9:40, 9:50,  11:00, 15:00, 18:00]\n",
    "# dep[]  = [9:10, 12:00, 11:20, 11:30, 19:00, 20:00]\n",
    "\n",
    "\n",
    "def minPlatform(arrival, departure, n):\n",
    " \n",
    "  \n",
    "    platform = [0] * 2631\n",
    "    requiredPlatform = 1\n",
    "     \n",
    "    for i in range(n):\n",
    " \n",
    "        # Increment the platforms for arrival\n",
    "        platform[arrival[i]] += 1\n",
    " \n",
    "        # Once train departs we decrease the\n",
    "        # platform count\n",
    "        platform[departure[i] + 1]  -= 1\n",
    " \n",
    "    # We are running loop till 2361 because\n",
    "    # maximum time value in a day can be 23:60\n",
    "    for i in range(1, 2631):\n",
    " \n",
    "        # Taking cumulative sum of\n",
    "        # platform give us required\n",
    "        # number of platform fro every minute\n",
    "        platform[i] = platform[i] + platform[i - 1]\n",
    "        requiredPlatform = max(requiredPlatform,\n",
    "                               platform[i])\n",
    "         \n",
    "    return requiredPlatform\n",
    " \n",
    "# Driver code\n",
    "arr = [ 900, 940, 950, 1100, 1500, 1800 ]\n",
    "dep = [ 910, 1200, 1120, 1130, 1900, 2000 ]\n",
    "n = len(arr)\n",
    " \n",
    "print(\"Minimum Number of Platforms Required = \",\n",
    "       minPlatform(arr, dep, n))"
   ]
  },
  {
   "cell_type": "code",
   "execution_count": null,
   "metadata": {},
   "outputs": [],
   "source": [
    "('105_SDWAN_MRC_36_mo'  ,\n",
    "'105_SDWAN_MRC_60_mo'  ,\n",
    "'40_Managed_SDWAN_MRC_36_mo'  ,\n",
    "'40_Managed_SDWAN_MRC_60_mo'  ,\n",
    "'Mng_SDWAN_Min_5000_Total_MRC_36_mo'  ,\n",
    "'Mng_SDWAN_Min_5000_Total_MRC_60_mo' ,\n",
    "'SDWAN_Min_5000_Total_MRC_36_mo' ,\n",
    "'SDWAN_Min_5000_Total_MRC_60_mo'  \n",
    ")"
   ]
  },
  {
   "cell_type": "code",
   "execution_count": 81,
   "metadata": {},
   "outputs": [],
   "source": [
    "def sap():\n",
    "    print(\"Vibhu Tripathi\")\n",
    "\n",
    "print(\"\")"
   ]
  },
  {
   "cell_type": "code",
   "execution_count": null,
   "metadata": {},
   "outputs": [],
   "source": []
  }
 ],
 "metadata": {
  "kernelspec": {
   "display_name": "Python 3.10.0 64-bit",
   "language": "python",
   "name": "python3"
  },
  "language_info": {
   "codemirror_mode": {
    "name": "ipython",
    "version": 3
   },
   "file_extension": ".py",
   "mimetype": "text/x-python",
   "name": "python",
   "nbconvert_exporter": "python",
   "pygments_lexer": "ipython3",
   "version": "3.10.0"
  },
  "orig_nbformat": 4,
  "vscode": {
   "interpreter": {
    "hash": "5601ff021e06ce8b93fd0646679a1acc6b1d719d8bbf88da0a2b37e477acd18c"
   }
  }
 },
 "nbformat": 4,
 "nbformat_minor": 2
}
